{
 "metadata": {
  "name": "",
  "signature": "sha256:0a3047317393adc21180659f7a65c7546180b72d4399b779db18a464f55c2dea"
 },
 "nbformat": 3,
 "nbformat_minor": 0,
 "worksheets": [
  {
   "cells": [
    {
     "cell_type": "code",
     "collapsed": false,
     "input": [
      "%matplotlib inline\n",
      "\n",
      "import emupy as ep\n",
      "import numpy as np\n",
      "import matplotlib.pyplot as plt\n",
      "import sklearn.gaussian_process as gp\n",
      "import astropy.stats as astats\n",
      "import scipy.linalg as la"
     ],
     "language": "python",
     "metadata": {},
     "outputs": [],
     "prompt_number": 229
    },
    {
     "cell_type": "code",
     "collapsed": false,
     "input": [
      "emu = ep.Emu()\n",
      "emu.N_modes = 2\n",
      "emu.N_data = 2\n",
      "emu.N_samples = 30\n",
      "emu.N_params = 2\n",
      "emu.lognorm = False\n",
      "emu.cov_whiten = False\n",
      "emu.reg_meth = 'gaussian'"
     ],
     "language": "python",
     "metadata": {},
     "outputs": [],
     "prompt_number": 439
    },
    {
     "cell_type": "code",
     "collapsed": false,
     "input": [
      "x_data = np.array([np.random.uniform(0,5,emu.N_samples), \n",
      "                   np.random.uniform(0,5,emu.N_samples)]).T\n",
      "\n",
      "y_data = np.copy(x_data)\n",
      "\n",
      "y_data[:,0] = np.sinc(x_data[:,0]) + (np.random.rand(emu.N_samples)-0.5)/10\n",
      "y_data[:,1] = np.sin(x_data[:,1]*4) + (np.random.rand(emu.N_samples)-0.5)/10\n",
      "\n",
      "print x_data.shape\n",
      "#print y_data\n",
      "\n",
      "fid_grid = map(np.average,x_data.T)\n",
      "fid_data = map(np.average,y_data.T)\n",
      "\n",
      "\n",
      "# grid in xy space, 2 function output"
     ],
     "language": "python",
     "metadata": {},
     "outputs": [
      {
       "output_type": "stream",
       "stream": "stdout",
       "text": [
        "(30, 2)\n"
       ]
      }
     ],
     "prompt_number": 501
    },
    {
     "cell_type": "code",
     "collapsed": false,
     "input": [
      "plt.scatter(x_data[:,1],y_data[:,1])"
     ],
     "language": "python",
     "metadata": {},
     "outputs": [
      {
       "metadata": {},
       "output_type": "pyout",
       "prompt_number": 502,
       "text": [
        "<matplotlib.collections.PathCollection at 0x7f9acbc4bf90>"
       ]
      },
      {
       "metadata": {},
       "output_type": "display_data",
       "png": "[encoded data removed]",
       "text": [
        "<matplotlib.figure.Figure at 0x7f9acbc594d0>"
       ]
      }
     ],
     "prompt_number": 502
    },
    {
     "cell_type": "code",
     "collapsed": false,
     "input": [
      "X = x_data - emu.fid_grid\n",
      "Xcov = emu.cov_est(X.T)\n",
      "\n",
      "test = np.array([[2,2],\n",
      "                 [1,2]])"
     ],
     "language": "python",
     "metadata": {},
     "outputs": [],
     "prompt_number": 503
    },
    {
     "cell_type": "code",
     "collapsed": false,
     "input": [
      "Xcov"
     ],
     "language": "python",
     "metadata": {},
     "outputs": [
      {
       "metadata": {},
       "output_type": "pyout",
       "prompt_number": 504,
       "text": [
        "array([[ 1.55665824, -0.06703551],\n",
        "       [-0.06703551,  1.89081694]])"
       ]
      }
     ],
     "prompt_number": 504
    },
    {
     "cell_type": "code",
     "collapsed": false,
     "input": [
      "L = la.cholesky(Xcov)\n",
      "\n",
      "print L"
     ],
     "language": "python",
     "metadata": {},
     "outputs": [
      {
       "output_type": "stream",
       "stream": "stdout",
       "text": [
        "[[ 1.24766111 -0.05372894]\n",
        " [ 0.          1.3740197 ]]\n"
       ]
      }
     ],
     "prompt_number": 505
    },
    {
     "cell_type": "code",
     "collapsed": false,
     "input": [
      "emu.fid_data"
     ],
     "language": "python",
     "metadata": {},
     "outputs": [
      {
       "metadata": {},
       "output_type": "pyout",
       "prompt_number": 506,
       "text": [
        "[0.12251527632815934, 0.23842106953718609]"
       ]
      }
     ],
     "prompt_number": 506
    },
    {
     "cell_type": "code",
     "collapsed": false,
     "input": [
      "emu.sphere(x_data, fid_grid=fid_grid, save_chol=True,norotate=True)\n",
      "\n",
      "#emu.gp_kwargs=None\n",
      "#print emu.Dcov\n",
      "\n",
      "emu.klt(y_data, fid_data, normalize = True)\n",
      "\n",
      "\n",
      "#emu.normalize=True\n",
      "\n",
      "kernel = gp.kernels.RBF(length_scale=np.ones(emu.N_params)) + gp.kernels.WhiteKernel(noise_level=1e-6)\n",
      "\n",
      "n_restarts_optimizer = 10\n",
      "optimizer='fmin_l_bfgs_b'\n",
      "gp_kwargs = {'kernel':kernel, 'n_restarts_optimizer':n_restarts_optimizer, 'optimizer':optimizer}\n",
      "emu.gp_kwargs = gp_kwargs\n",
      "\n",
      "emu.poly_deg=4\n",
      "emu.fast=False\n",
      "emu.train(y_data, x_data,use_pca=True, verbose=True)"
     ],
     "language": "python",
     "metadata": {},
     "outputs": [
      {
       "output_type": "stream",
       "stream": "stdout",
       "text": [
        "...finished modegroup #0\n",
        "...finished modegroup #1"
       ]
      },
      {
       "output_type": "stream",
       "stream": "stdout",
       "text": [
        "\n"
       ]
      }
     ],
     "prompt_number": 507
    },
    {
     "cell_type": "code",
     "collapsed": false,
     "input": [
      "emu.w_norm = np.array([1,1])"
     ],
     "language": "python",
     "metadata": {},
     "outputs": [],
     "prompt_number": 508
    },
    {
     "cell_type": "code",
     "collapsed": false,
     "input": [
      "fit_x = np.zeros((100,2))\n",
      "fit_x[:,0] = np.linspace(0,5,100)\n",
      "fit_x[:,1] = np.linspace(0,5,100)\n",
      "\n",
      "emu.predict(fit_x,output=True)\n",
      "\n",
      "print fit_y[:,1]\n",
      "\n",
      "fit_y = emu.recon\n",
      "\n",
      "#print fit_y\n",
      "plt.scatter(x_data[:,0],y_data[:,0], color='red')\n",
      "plt.plot(fit_x[:,1],fit_y[:,1])\n"
     ],
     "language": "python",
     "metadata": {},
     "outputs": [
      {
       "output_type": "stream",
       "stream": "stdout",
       "text": [
        "[  1.09730240e+00   1.07684393e+00   1.05066516e+00   1.01882705e+00\n",
        "   9.81463800e-01   9.38784786e-01   8.91075341e-01   8.38696149e-01\n",
        "   7.82081238e-01   7.21734482e-01   6.58224610e-01   5.92178708e-01\n",
        "   5.24274285e-01   4.55229961e-01   3.85794918e-01   3.16737264e-01\n",
        "   2.48831511e-01   1.82845395e-01   1.19526302e-01   5.95875897e-02\n",
        "   3.69509880e-03  -4.75458143e-02  -9.36024148e-02  -1.34025575e-01\n",
        "  -1.68459312e-01  -1.96648592e-01  -2.18445170e-01  -2.33811246e-01\n",
        "  -2.42820801e-01  -2.45658491e-01  -2.42616091e-01  -2.34086490e-01\n",
        "  -2.20555341e-01  -2.02590536e-01  -1.80829706e-01  -1.55966052e-01\n",
        "  -1.28732827e-01  -9.98868595e-02  -7.01915215e-02  -4.03995875e-02\n",
        "  -1.12364249e-02   1.66160389e-02   4.25341479e-02   6.59657510e-02\n",
        "   8.64414848e-02   1.03583807e-01   1.17113546e-01   1.26853801e-01\n",
        "   1.32731118e-01   1.34773915e-01   1.33108261e-01   1.27951138e-01\n",
        "   1.19601432e-01   1.08428938e-01   9.48617342e-02   7.93723256e-02\n",
        "   6.24629749e-02   4.46506803e-02   2.64522402e-02   8.36984878e-03\n",
        "  -9.12236701e-03  -2.55904933e-02  -4.06513339e-02  -5.39810087e-02\n",
        "  -6.53214480e-02  -7.44846578e-02  -8.13547052e-02  -8.58874466e-02\n",
        "  -8.81080950e-02  -8.81067873e-02  -8.60323706e-02  -8.20846797e-02\n",
        "  -7.65056118e-02  -6.95693362e-02  -6.15719879e-02  -5.28211989e-02\n",
        "  -4.36258090e-02  -3.42860794e-02  -2.50846987e-02  -1.62788331e-02\n",
        "  -8.09342452e-03  -7.15891207e-04   5.70767152e-03   1.10747457e-02\n",
        "   1.53271104e-02   1.84500865e-02   2.04704136e-02   2.14529045e-02\n",
        "   2.14960570e-02   2.07268247e-02   1.92947686e-02   1.73658146e-02\n",
        "   1.51158450e-02   1.27243425e-02   1.03682879e-02   8.21649670e-03\n",
        "   6.42454619e-03   5.13042241e-03   4.45097861e-03   4.47926685e-03]\n"
       ]
      },
      {
       "metadata": {},
       "output_type": "pyout",
       "prompt_number": 513,
       "text": [
        "[<matplotlib.lines.Line2D at 0x7f9acb8f3050>]"
       ]
      },
      {
       "metadata": {},
       "output_type": "display_data",
       "png": "[encoded data removed]",
       "text": [
        "<matplotlib.figure.Figure at 0x7f9acb8f3650>"
       ]
      }
     ],
     "prompt_number": 513
    }
   ],
   "metadata": {}
  }
 ]
}